{
 "cells": [
  {
   "cell_type": "markdown",
   "metadata": {},
   "source": [
    "# <span style=\"color:#691126\">Hundred Shades of Machine Learning</span>\n",
    "In 2017 I finished [Andrew Ng's](https://www.coursera.org/instructor/andrewng) brilliant [Machine Learning](https://www.coursera.org/learn/machine-learning) course, and followed it with Udacity's [Deep Learning Nanodegree](https://classroom.udacity.com/nanodegrees/nd101/syllabus/core-curriculum). I learned about regression, classification, neural networks, support vector machines, principal components and collaborative filtering and more esoteric stuff like recurrent neural networks(RNN) and generative adversarial networks(GAN).\n",
    "\n",
    "Some time has passed and I haven't used some of the techniques outside the class. So now I want to test my understanding of the guts of these algorithms. I'm rolling out this [blog](https://safwanahmad.github.io/) in the hope that it will help me cement my understanding of machine learning algorithms and perhaps help other learners too. \n",
    "\n",
    "I plan to look at every algorithm I have learnt so far from many different perspectives, hence the title of this blog."
   ]
  },
  {
   "cell_type": "markdown",
   "metadata": {},
   "source": [
    "1. [Linear Regression: A Tale of a Transform](Linear Regression A Tale of a Transform.html)"
   ]
  }
 ],
 "metadata": {
  "kernelspec": {
   "display_name": "Python 3",
   "language": "python",
   "name": "python3"
  },
  "language_info": {
   "codemirror_mode": {
    "name": "ipython",
    "version": 3
   },
   "file_extension": ".py",
   "mimetype": "text/x-python",
   "name": "python",
   "nbconvert_exporter": "python",
   "pygments_lexer": "ipython3",
   "version": "3.6.4"
  }
 },
 "nbformat": 4,
 "nbformat_minor": 2
}
